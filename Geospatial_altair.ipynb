{
 "cells": [
  {
   "cell_type": "markdown",
   "metadata": {},
   "source": [
    "# US Wildfires - geospatial visualizations with Altair"
   ]
  },
  {
   "cell_type": "markdown",
   "metadata": {},
   "source": [
    "We will demonstrate how to create **interactive visualizations of geospatial data** in Python. The landscape of Python plotting libraries is truly vast, but here we willl focus on [Altair](https://altair-viz.github.io/), an easy-to-use Python package that enables a broad range of interactivity in just a few lines of code.\n",
    "\n",
    "Let's first get the data!"
   ]
  },
  {
   "cell_type": "markdown",
   "metadata": {},
   "source": [
    "## US Wildfires data set"
   ]
  },
  {
   "cell_type": "markdown",
   "metadata": {},
   "source": [
    "The data set we will be working with contains over 20 years of geo-referenced US wildfire records information for fires that were larger than 100 acres across. The data spans from 1992 to 2015 and contains various information about each fire incident including the date of the fire, latitude, longitude, fire size, etc."
   ]
  },
  {
   "cell_type": "code",
   "execution_count": null,
   "metadata": {},
   "outputs": [],
   "source": [
    "import pandas as pd"
   ]
  },
  {
   "cell_type": "code",
   "execution_count": null,
   "metadata": {},
   "outputs": [],
   "source": [
    "large_fires = pd.read_csv('large_fires_altair_demo.csv', dtype={'COUNTY': str, 'FIRE_YEAR': str})"
   ]
  },
  {
   "cell_type": "code",
   "execution_count": null,
   "metadata": {},
   "outputs": [],
   "source": [
    "large_fires.shape"
   ]
  },
  {
   "cell_type": "code",
   "execution_count": null,
   "metadata": {},
   "outputs": [],
   "source": [
    "large_fires.head()"
   ]
  },
  {
   "cell_type": "markdown",
   "metadata": {},
   "source": [
    "We will first need to clean up the \"FIRE_YEAR\" column because the entries are inconsistent. As an example \"05\" really means \"2005\" and \"95\" stands for \"1995\"."
   ]
  },
  {
   "cell_type": "code",
   "execution_count": null,
   "metadata": {},
   "outputs": [],
   "source": [
    "large_fires['FIRE_YEAR'].unique()"
   ]
  },
  {
   "cell_type": "code",
   "execution_count": null,
   "metadata": {},
   "outputs": [],
   "source": [
    "from datetime import datetime\n",
    "\n",
    "def clean_year_column(entry):\n",
    "    if len(entry)==4:\n",
    "        return int(entry)\n",
    "    return datetime.strptime(entry, '%y').year"
   ]
  },
  {
   "cell_type": "code",
   "execution_count": null,
   "metadata": {},
   "outputs": [],
   "source": [
    "large_fires['FIRE_YEAR'] = large_fires['FIRE_YEAR'].apply(clean_year_column)"
   ]
  },
  {
   "cell_type": "code",
   "execution_count": null,
   "metadata": {},
   "outputs": [],
   "source": [
    "large_fires.head()"
   ]
  },
  {
   "cell_type": "markdown",
   "metadata": {},
   "source": [
    "Let's start with some Altair visualizations now."
   ]
  },
  {
   "cell_type": "markdown",
   "metadata": {},
   "source": [
    "## Altair basics"
   ]
  },
  {
   "cell_type": "markdown",
   "metadata": {},
   "source": [
    "[Altair](https://altair-viz.github.io/) is a visualization library for Python, based on Vega and Vega-Lite, which are powerful visualization grammars that allow us to generate both static images or interactive web-based views. Altair’s API is simple and enables you to create beautiful and effective visualizations with a minimal amount of code."
   ]
  },
  {
   "cell_type": "code",
   "execution_count": null,
   "metadata": {},
   "outputs": [],
   "source": [
    "import altair as alt"
   ]
  },
  {
   "cell_type": "markdown",
   "metadata": {},
   "source": [
    "We will first focus on fires in California. So let's make a dataframe with only those incidents."
   ]
  },
  {
   "cell_type": "code",
   "execution_count": null,
   "metadata": {},
   "outputs": [],
   "source": [
    "large_ca_fires = large_fires[large_fires['STATE_AB']=='CA']"
   ]
  },
  {
   "cell_type": "code",
   "execution_count": null,
   "metadata": {},
   "outputs": [],
   "source": [
    "large_ca_fires.head()"
   ]
  },
  {
   "cell_type": "markdown",
   "metadata": {},
   "source": [
    "Let's start by making a simple scatter plot. "
   ]
  },
  {
   "cell_type": "markdown",
   "metadata": {},
   "source": [
    "### The `Chart()` object"
   ]
  },
  {
   "cell_type": "markdown",
   "metadata": {},
   "source": [
    "The primary class used in Altair is `Chart()`, upon which marks, encodings, and interactivity can be applied.\n",
    "\n",
    "Note that in Altair, calling a method on a `Chart` object returns another `Chart` object, meaning that methods can be \"chained\" together. We'll tell Altair to make **point**  marks, and give it an **encoding** specifying which feature should be shown in each axis, as well as which feature should control the color of the points."
   ]
  },
  {
   "cell_type": "code",
   "execution_count": null,
   "metadata": {},
   "outputs": [],
   "source": [
    "scatter = alt.Chart(large_ca_fires) \\\n",
    "             .mark_point() \\\n",
    "             .encode(\n",
    "                x='DISCOVERY_DOY',\n",
    "                y='FIRE_SIZE',\n",
    "                color='FIRESIZECLASS')\n",
    "\n",
    "scatter"
   ]
  },
  {
   "cell_type": "markdown",
   "metadata": {},
   "source": [
    "In general, creating a chart in Altair involves the following steps:\n",
    "   * specify a data source (a pandas DataFrame)\n",
    "   * choose a type of mark (e.g. lines, points)\n",
    "   * specify an *encoding* (set axes, visual cues)\n",
    "   * define interactivity\n",
    "   \n",
    "   \n",
    "We've done the first three steps already. We can add some basic pan/zoom interactivity to Altair by adding `.interactive()` to our chart. And let's also add the tooltip and a plot title."
   ]
  },
  {
   "cell_type": "code",
   "execution_count": null,
   "metadata": {},
   "outputs": [],
   "source": [
    "scatter = alt.Chart(large_ca_fires) \\\n",
    "             .mark_point() \\\n",
    "             .encode(\n",
    "                x='DISCOVERY_DOY',\n",
    "                y='FIRE_SIZE',\n",
    "                color='FIRESIZECLASS',\n",
    "                tooltip=['LATITUDE', 'LONGITUDE'])  \\\n",
    "             .properties(title='California fire size vs day of year') \\\n",
    "             .interactive()\n",
    "\n",
    "scatter"
   ]
  },
  {
   "cell_type": "markdown",
   "metadata": {},
   "source": [
    "We can also easily create a bar plot with Altair. Let's make a histogram of across the different fires classes of California fires."
   ]
  },
  {
   "cell_type": "code",
   "execution_count": null,
   "metadata": {},
   "outputs": [],
   "source": [
    "hist = alt.Chart(large_ca_fires) \\\n",
    "          .mark_bar() \\\n",
    "          .encode(\n",
    "                x='FIRESIZECLASS',\n",
    "                y='count()',\n",
    "                tooltip=['count()', 'FIRECLASSDESCR']) \\\n",
    "          .properties(\n",
    "                width=300,\n",
    "                title='Histogram of California fire classes')\n",
    "\n",
    "hist"
   ]
  },
  {
   "cell_type": "markdown",
   "metadata": {},
   "source": [
    "Or we can look at the number of California fires over the years."
   ]
  },
  {
   "cell_type": "code",
   "execution_count": null,
   "metadata": {},
   "outputs": [],
   "source": [
    "over_years = alt.Chart(large_ca_fires) \\\n",
    "                .mark_line(point=True) \\\n",
    "                .encode(\n",
    "                    x='FIRE_YEAR:N',\n",
    "                    y='count()',\n",
    "                    tooltip=['count()', 'FIRE_YEAR']) \\\n",
    "                .properties(\n",
    "                    width=500,\n",
    "                    title='Number of California fires larger than 100 acres over the years')\n",
    "\n",
    "over_years"
   ]
  },
  {
   "cell_type": "markdown",
   "metadata": {},
   "source": [
    "## Making geospatial plots with Altair"
   ]
  },
  {
   "cell_type": "markdown",
   "metadata": {},
   "source": [
    "When plotting geospatial data we often want the background map of the area plotted. For our purpose we will use the outline of the US states. We can for example get the data for this from the `vega_datasets` like so:"
   ]
  },
  {
   "cell_type": "code",
   "execution_count": null,
   "metadata": {},
   "outputs": [],
   "source": [
    "from vega_datasets import data\n",
    "states = alt.topo_feature(data.us_10m.url, feature='states')"
   ]
  },
  {
   "cell_type": "markdown",
   "metadata": {},
   "source": [
    "Let's plot the states with Altair!"
   ]
  },
  {
   "cell_type": "code",
   "execution_count": null,
   "metadata": {},
   "outputs": [],
   "source": [
    "background = alt.Chart(states) \\\n",
    "                .mark_geoshape(\n",
    "                    fill='lightgray',\n",
    "                    stroke='black',\n",
    "                    strokeWidth=0.2) \\\n",
    "                .project('albersUsa') \\\n",
    "                .properties(\n",
    "                    width=600,\n",
    "                    height=400)\n",
    "\n",
    "background"
   ]
  },
  {
   "cell_type": "markdown",
   "metadata": {},
   "source": [
    "Let's add California fires data to this plot."
   ]
  },
  {
   "cell_type": "code",
   "execution_count": null,
   "metadata": {},
   "outputs": [],
   "source": [
    "points = alt.Chart(large_ca_fires) \\\n",
    "            .mark_circle() \\\n",
    "            .encode(\n",
    "                longitude='LONGITUDE',\n",
    "                latitude='LATITUDE',\n",
    "                size=alt.Size('FIRE_SIZE', scale=alt.Scale(domain=(5000, 300000))),\n",
    "                tooltip=['FIRE_SIZE', 'LATITUDE', 'LONGITUDE'])\n",
    "\n",
    "background + points"
   ]
  },
  {
   "cell_type": "markdown",
   "metadata": {},
   "source": [
    "## Adding an interactive slider"
   ]
  },
  {
   "cell_type": "markdown",
   "metadata": {},
   "source": [
    "Now let's plot only fires for each year and add a slider that selects the year being plotted."
   ]
  },
  {
   "cell_type": "code",
   "execution_count": null,
   "metadata": {},
   "outputs": [],
   "source": [
    "slider = alt.binding_range(min=1992, max=2015, step=1)\n",
    "select_year = alt.selection_single(name=\"FIRE_YEAR\", fields=['FIRE_YEAR'],\n",
    "                                   bind=slider, init={'FIRE_YEAR': 2000})\n",
    "\n",
    "points = alt.Chart(large_ca_fires) \\\n",
    "            .mark_circle() \\\n",
    "            .encode(\n",
    "                longitude='LONGITUDE',\n",
    "                latitude='LATITUDE',\n",
    "                size=alt.Size('FIRE_SIZE', scale=alt.Scale(domain=(5000, 300000))),\n",
    "                tooltip=['FIRE_SIZE', 'LATITUDE', 'LONGITUDE']) \\\n",
    "            .add_selection(select_year)\\\n",
    "            .transform_filter(select_year)\n",
    "\n",
    "background + points"
   ]
  },
  {
   "cell_type": "markdown",
   "metadata": {},
   "source": [
    "## Altair Choropleth Map"
   ]
  },
  {
   "cell_type": "markdown",
   "metadata": {},
   "source": [
    "Let's go back to the data for the entire US and plot the map where we color each state depending on the number of fires that occured in the state on a given year. First we will perpare the data."
   ]
  },
  {
   "cell_type": "code",
   "execution_count": null,
   "metadata": {},
   "outputs": [],
   "source": [
    "large_by_state = large_fires.groupby(['STATE', 'FIRE_YEAR']).size()\n",
    "large_by_state = large_by_state.unstack(fill_value=0).stack().reset_index(name='COUNT')"
   ]
  },
  {
   "cell_type": "code",
   "execution_count": null,
   "metadata": {},
   "outputs": [],
   "source": [
    "large_by_state"
   ]
  },
  {
   "cell_type": "markdown",
   "metadata": {},
   "source": [
    "In order for Altair to color each state according to the count of fires in that state, each state needs to have an \"id\" associate with it which corresponds to the choropleth data \"id\" column. To bring the correct state \"id\" to each row, we will use this helper dataframe:"
   ]
  },
  {
   "cell_type": "code",
   "execution_count": null,
   "metadata": {},
   "outputs": [],
   "source": [
    "state_ds = pd.read_csv('state_ids.csv')"
   ]
  },
  {
   "cell_type": "code",
   "execution_count": null,
   "metadata": {},
   "outputs": [],
   "source": [
    "state_ds.head()"
   ]
  },
  {
   "cell_type": "code",
   "execution_count": null,
   "metadata": {},
   "outputs": [],
   "source": [
    "large_by_state = pd.merge(large_by_state, state_ds, left_on='STATE', right_on='state').drop(columns = 'state')"
   ]
  },
  {
   "cell_type": "code",
   "execution_count": null,
   "metadata": {},
   "outputs": [],
   "source": [
    "large_by_state.head()"
   ]
  },
  {
   "cell_type": "markdown",
   "metadata": {},
   "source": [
    "Now, we're ready to generate the plot."
   ]
  },
  {
   "cell_type": "code",
   "execution_count": null,
   "metadata": {},
   "outputs": [],
   "source": [
    "slider = alt.binding_range(min=1992, max=2015, step=1)\n",
    "select_year = alt.selection_single(name=\"FIRE_YEAR\", fields=['FIRE_YEAR'],\n",
    "                                   bind=slider, init={'FIRE_YEAR': 2000})\n",
    "\n",
    "\n",
    "fires_us = alt.Chart(large_by_state)  \\\n",
    "              .mark_geoshape(\n",
    "                    stroke='black',\n",
    "                    strokeWidth=0.2)\\\n",
    "              .project('albersUsa')\\\n",
    "              .encode(\n",
    "                    color=alt.Color('COUNT:Q', scale=alt.Scale(domain=(0, 350))),\n",
    "                    tooltip=['COUNT:Q', 'STATE:N']) \\\n",
    "              .transform_lookup(\n",
    "                    lookup='id',\n",
    "                    from_=alt.LookupData(states, key='id',\n",
    "                    fields=[\"type\", \"properties\", \"geometry\"])) \\\n",
    "              .add_selection(select_year)\\\n",
    "              .transform_filter(select_year)\\\n",
    "              .properties(\n",
    "                    width=600,\n",
    "                    height=400,\n",
    "                    title='State by state number of fires larger than 100 acres over the years')\n",
    "\n",
    "fires_us"
   ]
  },
  {
   "cell_type": "markdown",
   "metadata": {},
   "source": [
    "## Examples gallery"
   ]
  },
  {
   "cell_type": "markdown",
   "metadata": {},
   "source": [
    "Often, the best way to get started with a visualization is by looking for an example visualization and adapting it for your purpose. As such, [Altair](https://altair-viz.github.io/gallery/index.html) hosts a large \"gallery\" of visualizations and the code used to generate them. Some may seem fairly complicated at first glance, but they are built by combining a simple set of declarative building blocks, so dive in and explore!"
   ]
  },
  {
   "cell_type": "markdown",
   "metadata": {},
   "source": [
    "*Copyright &copy; 2021 Pragmatic Institute. This content is licensed solely for personal use. Redistribution or publication of this material is strictly prohibited.*"
   ]
  }
 ],
 "metadata": {
  "kernelspec": {
   "display_name": "Python 3 (ipykernel)",
   "language": "python",
   "name": "python3"
  },
  "language_info": {
   "codemirror_mode": {
    "name": "ipython",
    "version": 3
   },
   "file_extension": ".py",
   "mimetype": "text/x-python",
   "name": "python",
   "nbconvert_exporter": "python",
   "pygments_lexer": "ipython3",
   "version": "3.9.7"
  }
 },
 "nbformat": 4,
 "nbformat_minor": 4
}
